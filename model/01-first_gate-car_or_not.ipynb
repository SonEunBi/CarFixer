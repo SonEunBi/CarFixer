{
 "cells": [
  {
   "cell_type": "markdown",
   "metadata": {},
   "source": [
    "### data0 - all car images, including whole and damaged"
   ]
  },
  {
   "cell_type": "code",
   "execution_count": 60,
   "metadata": {},
   "outputs": [],
   "source": [
    "import urllib.request\n",
    "from IPython.display import Image, display, clear_output\n",
    "from collections import Counter, defaultdict\n",
    "\n",
    "import matplotlib.pyplot as plt\n",
    "import seaborn as sns \n",
    "%matplotlib inline\n",
    "\n",
    "import json\n",
    "import pickle as pk\n",
    "from sklearn.metrics import classification_report, confusion_matrix\n"
   ]
  },
  {
   "cell_type": "code",
   "execution_count": 21,
   "metadata": {},
   "outputs": [],
   "source": [
    "import os\n",
    "import h5py\n",
    "import numpy as np\n",
    "import pandas as pd\n",
    "import tensorflow as tf\n",
    "\n",
    "#from keras.utils.data_utils import get_file\n",
    "from tensorflow.keras.applications.resnet50 import ResNet50\n",
    "from tensorflow.keras.applications.vgg16 import VGG16\n",
    "from tensorflow.keras.applications.vgg19 import VGG19\n",
    "from tensorflow.keras.applications.inception_v3 import InceptionV3\n",
    "from tensorflow.keras.applications.imagenet_utils import preprocess_input, decode_predictions\n",
    "from tensorflow.keras.preprocessing.image import ImageDataGenerator, array_to_img, img_to_array, load_img\n",
    "from tensorflow.keras.models import Sequential, load_model\n",
    "from tensorflow.keras.layers import Convolution2D, MaxPooling2D, ZeroPadding2D\n",
    "from tensorflow.keras.layers import Activation, Dropout, Flatten, Dense\n",
    "from tensorflow.keras.utils import to_categorical\n",
    "from tensorflow.keras import optimizers\n",
    "from tensorflow.keras.callbacks import ModelCheckpoint, History"
   ]
  },
  {
   "cell_type": "code",
   "execution_count": 3,
   "metadata": {},
   "outputs": [],
   "source": [
    "CLASS_INDEX = None\n",
    "CLASS_INDEX_PATH = 'https://s3.amazonaws.com/deep-learning-models/image-models/imagenet_class_index.json'"
   ]
  },
  {
   "cell_type": "code",
   "execution_count": 20,
   "metadata": {},
   "outputs": [],
   "source": [
    "# from Keras GitHub  \n",
    "def get_predictions(preds, top=5):\n",
    "    global CLASS_INDEX\n",
    "    if len(preds.shape) != 2 or preds.shape[1] != 1000:\n",
    "        raise ValueError('`decode_predictions` expects '\n",
    "                         'a batch of predictions '\n",
    "                         '(i.e. a 2D array of shape (samples, 1000)). '\n",
    "                         'Found array with shape: ' + str(preds.shape))\n",
    "    if CLASS_INDEX is None:\n",
    "        fpath = tf.keras.utils.get_file('imagenet_class_index.json',\n",
    "                         CLASS_INDEX_PATH,\n",
    "                         cache_subdir='models')\n",
    "        CLASS_INDEX = json.load(open(fpath))\n",
    "    results = []\n",
    "    for pred in preds:\n",
    "        top_indices = pred.argsort()[-top:][::-1]\n",
    "        result = [tuple(CLASS_INDEX[str(i)]) + (pred[i],) for i in top_indices]\n",
    "        result.sort(key=lambda x: x[2], reverse=True)\n",
    "        results.append(result)\n",
    "    return results"
   ]
  },
  {
   "cell_type": "code",
   "execution_count": 5,
   "metadata": {},
   "outputs": [],
   "source": [
    "vgg16 = VGG16(weights='imagenet')"
   ]
  },
  {
   "cell_type": "code",
   "execution_count": 6,
   "metadata": {},
   "outputs": [],
   "source": [
    "vgg16.save('vgg16.h5')"
   ]
  },
  {
   "cell_type": "code",
   "execution_count": 7,
   "metadata": {},
   "outputs": [],
   "source": [
    "resnet50 = ResNet50(weights='imagenet')\n",
    "vgg19 = VGG19(weights='imagenet')\n",
    "inception = InceptionV3(weights='imagenet')"
   ]
  },
  {
   "cell_type": "code",
   "execution_count": 8,
   "metadata": {},
   "outputs": [
    {
     "data": {
      "image/jpeg": "[encoded data removed]",
      "text/plain": [
       "<IPython.core.display.Image object>"
      ]
     },
     "execution_count": 8,
     "metadata": {
      "image/jpeg": {
       "width": 200
      }
     },
     "output_type": "execute_result"
    }
   ],
   "source": [
    "Image('test.jpeg', width=200)"
   ]
  },
  {
   "cell_type": "code",
   "execution_count": 9,
   "metadata": {},
   "outputs": [],
   "source": [
    "def prepare_image(img_path):\n",
    "    img = load_img(img_path, target_size=(224, 224))\n",
    "    x = img_to_array(img)\n",
    "    x = np.expand_dims(x, axis=0)\n",
    "    x = preprocess_input(x)\n",
    "    return x"
   ]
  },
  {
   "cell_type": "markdown",
   "metadata": {},
   "source": [
    "## Testing with different models"
   ]
  },
  {
   "cell_type": "code",
   "execution_count": 15,
   "metadata": {},
   "outputs": [
    {
     "name": "stdout",
     "output_type": "stream",
     "text": [
      "Downloading data from https://s3.amazonaws.com/deep-learning-models/image-models/imagenet_class_index.json\n",
      "40960/35363 [==================================] - 2s 43us/step\n",
      "[[('n03770679', 'minivan', 0.29431078), ('n02917067', 'bullet_train', 0.29336697), ('n02974003', 'car_wheel', 0.101423405), ('n04285008', 'sports_car', 0.08902774), ('n03459775', 'grille', 0.06448862)]]\n"
     ]
    }
   ],
   "source": [
    "y = prepare_image('test.jpeg')\n",
    "preds = vgg16.predict(y)\n",
    "print(get_predictions(preds, top=5)"
   ]
  },
  {
   "cell_type": "code",
   "execution_count": 22,
   "metadata": {},
   "outputs": [
    {
     "ename": "NameError",
     "evalue": "name 'x' is not defined",
     "output_type": "error",
     "traceback": [
      "\u001b[0;31m---------------------------------------------------------------------------\u001b[0m",
      "\u001b[0;31mNameError\u001b[0m                                 Traceback (most recent call last)",
      "\u001b[0;32m/var/folders/vp/zfl2w47x3z5c95_s68l02gn00000gn/T/ipykernel_56791/3743213974.py\u001b[0m in \u001b[0;36m<module>\u001b[0;34m\u001b[0m\n\u001b[0;32m----> 1\u001b[0;31m \u001b[0mz\u001b[0m \u001b[0;34m=\u001b[0m \u001b[0mpreprocess_input\u001b[0m\u001b[0;34m(\u001b[0m\u001b[0mx\u001b[0m\u001b[0;34m)\u001b[0m\u001b[0;34m\u001b[0m\u001b[0;34m\u001b[0m\u001b[0m\n\u001b[0m\u001b[1;32m      2\u001b[0m \u001b[0mpreds\u001b[0m \u001b[0;34m=\u001b[0m \u001b[0mresnet\u001b[0m\u001b[0;34m.\u001b[0m\u001b[0mpredict\u001b[0m\u001b[0;34m(\u001b[0m\u001b[0mz\u001b[0m\u001b[0;34m)\u001b[0m\u001b[0;34m\u001b[0m\u001b[0;34m\u001b[0m\u001b[0m\n\u001b[1;32m      3\u001b[0m \u001b[0mprint\u001b[0m\u001b[0;34m(\u001b[0m\u001b[0mget_predictions\u001b[0m\u001b[0;34m(\u001b[0m\u001b[0mpreds\u001b[0m\u001b[0;34m)\u001b[0m\u001b[0;34m)\u001b[0m\u001b[0;34m\u001b[0m\u001b[0;34m\u001b[0m\u001b[0m\n",
      "\u001b[0;31mNameError\u001b[0m: name 'x' is not defined"
     ]
    }
   ],
   "source": [
    "z = preprocess_input(x)\n",
    "preds = resnet.predict(z)\n",
    "print(get_predictions(preds))"
   ]
  },
  {
   "cell_type": "code",
   "execution_count": 77,
   "metadata": {},
   "outputs": [
    {
     "name": "stdout",
     "output_type": "stream",
     "text": [
      "[[(u'n04493381', u'tub', 0.3188411), (u'n02808440', u'bathtub', 0.19447012), (u'n04447861', u'toilet_seat', 0.071480118), (u'n04049303', u'rain_barrel', 0.06163064), (u'n02951358', u'canoe', 0.050739273)]]\n"
     ]
    }
   ],
   "source": [
    "a = preprocess_input(x)\n",
    "preds = vgg19.predict(a)\n",
    "print get_predictions(preds)"
   ]
  },
  {
   "cell_type": "markdown",
   "metadata": {},
   "source": [
    "## Using VGG16 as Gate"
   ]
  },
  {
   "cell_type": "code",
   "execution_count": 67,
   "metadata": {},
   "outputs": [],
   "source": [
    "def get_car_categories():\n",
    "    d = defaultdict(float)\n",
    "    img_list = os.listdir('car-damage-dataset/data0')\n",
    "    for i, img_path in enumerate(img_list):\n",
    "        img = prepare_image('car-damage-dataset/data0/'+img_path)\n",
    "        out = vgg16.predict(img)\n",
    "        top = get_predictions(out, top=5)\n",
    "        for j in top[0]:\n",
    "            d[j[0:2]] += j[2]\n",
    "        if i % 50 == 0:\n",
    "            print(i, '/', len(img_list), 'complete')\n",
    "    return Counter(d)"
   ]
  },
  {
   "cell_type": "code",
   "execution_count": 68,
   "metadata": {
    "scrolled": false
   },
   "outputs": [
    {
     "name": "stdout",
     "output_type": "stream",
     "text": [
      "0 / 1712 complete\n",
      "50 / 1712 complete\n",
      "100 / 1712 complete\n",
      "150 / 1712 complete\n",
      "200 / 1712 complete\n",
      "250 / 1712 complete\n",
      "300 / 1712 complete\n",
      "350 / 1712 complete\n",
      "400 / 1712 complete\n",
      "450 / 1712 complete\n",
      "500 / 1712 complete\n",
      "550 / 1712 complete\n",
      "600 / 1712 complete\n",
      "650 / 1712 complete\n",
      "700 / 1712 complete\n",
      "750 / 1712 complete\n",
      "800 / 1712 complete\n",
      "850 / 1712 complete\n",
      "900 / 1712 complete\n",
      "950 / 1712 complete\n",
      "1000 / 1712 complete\n",
      "1050 / 1712 complete\n",
      "1100 / 1712 complete\n",
      "1150 / 1712 complete\n",
      "1200 / 1712 complete\n",
      "1250 / 1712 complete\n",
      "1300 / 1712 complete\n",
      "1350 / 1712 complete\n",
      "1400 / 1712 complete\n",
      "1450 / 1712 complete\n",
      "1500 / 1712 complete\n",
      "1550 / 1712 complete\n",
      "1600 / 1712 complete\n",
      "1650 / 1712 complete\n",
      "1700 / 1712 complete\n"
     ]
    }
   ],
   "source": [
    "cat_counter = get_car_categories()"
   ]
  },
  {
   "cell_type": "code",
   "execution_count": 43,
   "metadata": {},
   "outputs": [],
   "source": [
    "with open('cat_counter.pk', 'wb') as f:\n",
    "    pk.dump(cat_counter,f,-1)"
   ]
  },
  {
   "cell_type": "markdown",
   "metadata": {},
   "source": [
    "### Load Pickle Point"
   ]
  },
  {
   "cell_type": "code",
   "execution_count": 44,
   "metadata": {},
   "outputs": [],
   "source": [
    "with open('cat_counter.pk', 'rb') as f:\n",
    "    cat_counter = pk.load(f)"
   ]
  },
  {
   "cell_type": "code",
   "execution_count": 45,
   "metadata": {},
   "outputs": [],
   "source": [
    "cat_list = [k for k, v in cat_counter.most_common()[:50]]"
   ]
  },
  {
   "cell_type": "markdown",
   "metadata": {},
   "source": [
    "## Evaluating Car Categories from Imagenet"
   ]
  },
  {
   "cell_type": "code",
   "execution_count": 50,
   "metadata": {},
   "outputs": [],
   "source": [
    "def get_car_categories(cat_list):\n",
    "    img_list = os.listdir('car-damage-dataset/data0')\n",
    "    num = 0\n",
    "    bad_list = []\n",
    "    for i, img_path in enumerate(img_list):\n",
    "        img = prepare_image('car-damage-dataset/data0/'+img_path)\n",
    "        out = vgg16.predict(img)\n",
    "        top = get_predictions(out, top=5)\n",
    "        for j in top[0]:\n",
    "            if j[0:2] in cat_list:\n",
    "                num += 1\n",
    "                break # breaks out of for loop if one of top 50 categories is found\n",
    "            else:\n",
    "                pass\n",
    "            bad_list.append(img_path) # appends to \"bad list\" if none of the 50 are found\n",
    "        if i % 100 == 0:\n",
    "            print(i, '/', len(img_list), 'complete')\n",
    "    bad_list = [k for k, v in Counter(bad_list).items() if v == 5]\n",
    "    return num, bad_list"
   ]
  },
  {
   "cell_type": "code",
   "execution_count": 51,
   "metadata": {
    "scrolled": true
   },
   "outputs": [
    {
     "name": "stdout",
     "output_type": "stream",
     "text": [
      "0 / 1712 complete\n",
      "100 / 1712 complete\n",
      "200 / 1712 complete\n",
      "300 / 1712 complete\n",
      "400 / 1712 complete\n",
      "500 / 1712 complete\n",
      "600 / 1712 complete\n",
      "700 / 1712 complete\n",
      "800 / 1712 complete\n",
      "900 / 1712 complete\n",
      "1000 / 1712 complete\n",
      "1100 / 1712 complete\n",
      "1200 / 1712 complete\n",
      "1300 / 1712 complete\n",
      "1400 / 1712 complete\n",
      "1500 / 1712 complete\n",
      "1600 / 1712 complete\n",
      "1700 / 1712 complete\n"
     ]
    }
   ],
   "source": [
    "number, bad_list = get_car_categories(cat_list)"
   ]
  },
  {
   "cell_type": "code",
   "execution_count": 210,
   "metadata": {},
   "outputs": [
    {
     "name": "stdout",
     "output_type": "stream",
     "text": [
      "0 / 1309 complete\n",
      "100 / 1309 complete\n",
      "200 / 1309 complete\n",
      "300 / 1309 complete\n",
      "400 / 1309 complete\n",
      "500 / 1309 complete\n",
      "600 / 1309 complete\n",
      "700 / 1309 complete\n",
      "800 / 1309 complete\n",
      "900 / 1309 complete\n",
      "1000 / 1309 complete\n",
      "1100 / 1309 complete\n",
      "1200 / 1309 complete\n",
      "1300 / 1309 complete\n"
     ]
    }
   ],
   "source": [
    "number2, bad_list2 = car_categories_gate(cat_list2)"
   ]
  },
  {
   "cell_type": "code",
   "execution_count": 212,
   "metadata": {},
   "outputs": [
    {
     "data": {
      "text/plain": [
       "2"
      ]
     },
     "execution_count": 212,
     "metadata": {},
     "output_type": "execute_result"
    }
   ],
   "source": [
    "number2, bad_list2 = car_categories_gate(cat_list2)"
   ]
  },
  {
   "cell_type": "markdown",
   "metadata": {},
   "source": [
    "## Select top 50 as cutoff for category list"
   ]
  },
  {
   "cell_type": "code",
   "execution_count": 54,
   "metadata": {},
   "outputs": [],
   "source": [
    "def view_images(img_dir, img_list):\n",
    "    for img in img_list:\n",
    "        clear_output()\n",
    "        display(Image(img_dir+img))\n",
    "        num = input(\"c to continue, q to quit\")\n",
    "        if num == 'c':\n",
    "            pass\n",
    "        else:\n",
    "            return 'Finished for now.'"
   ]
  },
  {
   "cell_type": "code",
   "execution_count": 56,
   "metadata": {},
   "outputs": [
    {
     "data": {
      "image/jpeg": "[encoded data removed]",
      "text/plain": [
       "<IPython.core.display.Image object>"
      ]
     },
     "metadata": {},
     "output_type": "display_data"
    },
    {
     "name": "stdout",
     "output_type": "stream",
     "text": [
      "c to continue, q to quitc\n"
     ]
    }
   ],
   "source": [
    "view_images('car-damage-dataset/data0/', bad_list)"
   ]
  },
  {
   "cell_type": "code",
   "execution_count": 213,
   "metadata": {},
   "outputs": [
    {
     "data": {
      "image/jpeg": "[encoded data removed]",
      "text/plain": [
       "<IPython.core.display.Image object>"
      ]
     },
     "metadata": {},
     "output_type": "display_data"
    },
    {
     "name": "stdout",
     "output_type": "stream",
     "text": [
      "c to continue, q to quitc\n"
     ]
    }
   ],
   "source": [
    "view_images('data0/', bad_list2)"
   ]
  },
  {
   "cell_type": "markdown",
   "metadata": {},
   "source": [
    "## Gate Implementation"
   ]
  },
  {
   "cell_type": "code",
   "execution_count": 61,
   "metadata": {},
   "outputs": [],
   "source": [
    "def car_categories_gate(image_path, cat_list):\n",
    "    urllib.request.urlretrieve(image_path, 'save.jpg') # or other way to upload image\n",
    "    img = prepare_image('save.jpg')\n",
    "    out = vgg16.predict(img)\n",
    "    top = get_predictions(out, top=5)\n",
    "    print(\"Validating that this is a picture of your car...\")\n",
    "    for j in top[0]:\n",
    "        if j[0:2] in cat_list:\n",
    "            print(j[0:2])\n",
    "            return \"Validation complete - proceed to damage evaluation\"\n",
    "    return \"Are you sure this is a picture of your car? Please take another picture (try a different angle or lighting) and try again.\""
   ]
  },
  {
   "cell_type": "code",
   "execution_count": 64,
   "metadata": {},
   "outputs": [
    {
     "name": "stdout",
     "output_type": "stream",
     "text": [
      "Validating that this is a picture of your car...\n"
     ]
    },
    {
     "data": {
      "text/plain": [
       "'Are you sure this is a picture of your car? Please take another picture (try a different angle or lighting) and try again.'"
      ]
     },
     "execution_count": 64,
     "metadata": {},
     "output_type": "execute_result"
    }
   ],
   "source": [
    "car_categories_gate('https://t1.daumcdn.net/cfile/tistory/9984BF465EC7800906', cat_list)"
   ]
  },
  {
   "cell_type": "code",
   "execution_count": 63,
   "metadata": {},
   "outputs": [
    {
     "name": "stdout",
     "output_type": "stream",
     "text": [
      "Validating that this is a picture of your car...\n",
      "('n02747177', 'ashcan')\n"
     ]
    },
    {
     "data": {
      "text/plain": [
       "'Validation complete - proceed to damage evaluation'"
      ]
     },
     "execution_count": 63,
     "metadata": {},
     "output_type": "execute_result"
    }
   ],
   "source": [
    "car_categories_gate('https://encrypted-tbn0.gstatic.com/images?q=tbn:ANd9GcS7xHO3j12Xk4q4eaQUL1A02k1HrJ9G_RY6tj-4h-07EfdML6YL', cat_list)"
   ]
  },
  {
   "cell_type": "code",
   "execution_count": 65,
   "metadata": {},
   "outputs": [
    {
     "name": "stdout",
     "output_type": "stream",
     "text": [
      "[('n03770679', 'minivan'), ('n04285008', 'sports_car'), ('n03100240', 'convertible'), ('n02814533', 'beach_wagon'), ('n03930630', 'pickup'), ('n03670208', 'limousine'), ('n04461696', 'tow_truck'), ('n04037443', 'racer'), ('n03594945', 'jeep'), ('n02974003', 'car_wheel'), ('n03459775', 'grille'), ('n03769881', 'minibus'), ('n04252225', 'snowplow'), ('n02930766', 'cab'), ('n03796401', 'moving_van'), ('n03977966', 'police_van'), ('n03445924', 'golfcart'), ('n03417042', 'garbage_truck'), ('n02701002', 'ambulance'), ('n03791053', 'motor_scooter'), ('n03478589', 'half_track'), ('n02704792', 'amphibian'), ('n04252077', 'snowmobile'), ('n04467665', 'trailer_truck'), ('n03777568', 'Model_T'), ('n04065272', 'recreational_vehicle'), ('n02917067', 'bullet_train'), ('n03345487', 'fire_engine'), ('n02965783', 'car_mirror'), ('n04465501', 'tractor'), ('n03127747', 'crash_helmet'), ('n03891332', 'parking_meter'), ('n02747177', 'ashcan'), ('n03649909', 'lawn_mower'), ('n03776460', 'mobile_home'), ('n02860847', 'bobsled'), ('n04389033', 'tank'), ('n03496892', 'harvester'), ('n03384352', 'forklift'), ('n04606251', 'wreck'), ('n04258138', 'solar_dish'), ('n03160309', 'dam'), ('n04517823', 'vacuum'), ('n03538406', 'horse_cart'), ('n03785016', 'moped'), ('n04552348', 'warplane'), ('n03599486', 'jinrikisha'), ('n06874185', 'traffic_light'), ('n03444034', 'go-kart'), ('n04487081', 'trolleybus')]\n"
     ]
    }
   ],
   "source": [
    "print(cat_list)"
   ]
  },
  {
   "cell_type": "code",
   "execution_count": null,
   "metadata": {},
   "outputs": [],
   "source": []
  }
 ],
 "metadata": {
  "anaconda-cloud": {},
  "kernelspec": {
   "display_name": "Python 3 (ipykernel)",
   "language": "python",
   "name": "python3"
  },
  "language_info": {
   "codemirror_mode": {
    "name": "ipython",
    "version": 3
   },
   "file_extension": ".py",
   "mimetype": "text/x-python",
   "name": "python",
   "nbconvert_exporter": "python",
   "pygments_lexer": "ipython3",
   "version": "3.8.11"
  }
 },
 "nbformat": 4,
 "nbformat_minor": 1
}
